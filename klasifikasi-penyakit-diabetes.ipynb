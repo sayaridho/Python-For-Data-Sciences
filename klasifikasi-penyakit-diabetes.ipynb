{
 "cells": [
  {
   "cell_type": "code",
   "execution_count": 1,
   "metadata": {
    "_cell_guid": "b1076dfc-b9ad-4769-8c92-a6c4dae69d19",
    "_uuid": "8f2839f25d086af736a60e9eeb907d3b93b6e0e5",
    "execution": {
     "iopub.execute_input": "2021-02-08T11:09:27.414742Z",
     "iopub.status.busy": "2021-02-08T11:09:27.413873Z",
     "iopub.status.idle": "2021-02-08T11:09:27.427797Z",
     "shell.execute_reply": "2021-02-08T11:09:27.427025Z"
    },
    "papermill": {
     "duration": 0.029389,
     "end_time": "2021-02-08T11:09:27.428000",
     "exception": false,
     "start_time": "2021-02-08T11:09:27.398611",
     "status": "completed"
    },
    "tags": []
   },
   "outputs": [
    {
     "name": "stdout",
     "output_type": "stream",
     "text": [
      "/kaggle/input/diabetes/diabetes.csv\n"
     ]
    }
   ],
   "source": [
    "# This Python 3 environment comes with many helpful analytics libraries installed\n",
    "# It is defined by the kaggle/python Docker image: https://github.com/kaggle/docker-python\n",
    "# For example, here's several helpful packages to load\n",
    "\n",
    "import numpy as np # linear algebra\n",
    "import pandas as pd # data processing, CSV file I/O (e.g. pd.read_csv)\n",
    "\n",
    "# Input data files are available in the read-only \"../input/\" directory\n",
    "# For example, running this (by clicking run or pressing Shift+Enter) will list all files under the input directory\n",
    "\n",
    "import os\n",
    "for dirname, _, filenames in os.walk('/kaggle/input'):\n",
    "    for filename in filenames:\n",
    "        print(os.path.join(dirname, filename))\n",
    "\n",
    "# You can write up to 20GB to the current directory (/kaggle/working/) that gets preserved as output when you create a version using \"Save & Run All\" \n",
    "# You can also write temporary files to /kaggle/temp/, but they won't be saved outside of the current session"
   ]
  },
  {
   "cell_type": "code",
   "execution_count": 2,
   "metadata": {
    "execution": {
     "iopub.execute_input": "2021-02-08T11:09:27.452600Z",
     "iopub.status.busy": "2021-02-08T11:09:27.451905Z",
     "iopub.status.idle": "2021-02-08T11:09:28.719409Z",
     "shell.execute_reply": "2021-02-08T11:09:28.720123Z"
    },
    "papermill": {
     "duration": 1.28294,
     "end_time": "2021-02-08T11:09:28.720305",
     "exception": false,
     "start_time": "2021-02-08T11:09:27.437365",
     "status": "completed"
    },
    "tags": []
   },
   "outputs": [],
   "source": [
    "import pandas as pd\n",
    "import matplotlib.pyplot as plt\n",
    "import numpy as np\n",
    "import math\n",
    "import seaborn as sns\n",
    "from sklearn.linear_model import LogisticRegression \n",
    "from sklearn.model_selection import train_test_split\n",
    "%matplotlib inline\n"
   ]
  },
  {
   "cell_type": "code",
   "execution_count": 3,
   "metadata": {
    "execution": {
     "iopub.execute_input": "2021-02-08T11:09:28.741719Z",
     "iopub.status.busy": "2021-02-08T11:09:28.740735Z",
     "iopub.status.idle": "2021-02-08T11:09:28.879382Z",
     "shell.execute_reply": "2021-02-08T11:09:28.879993Z"
    },
    "papermill": {
     "duration": 0.151056,
     "end_time": "2021-02-08T11:09:28.880172",
     "exception": false,
     "start_time": "2021-02-08T11:09:28.729116",
     "status": "completed"
    },
    "tags": []
   },
   "outputs": [
    {
     "data": {
      "text/html": [
       "<div>\n",
       "<style scoped>\n",
       "    .dataframe tbody tr th:only-of-type {\n",
       "        vertical-align: middle;\n",
       "    }\n",
       "\n",
       "    .dataframe tbody tr th {\n",
       "        vertical-align: top;\n",
       "    }\n",
       "\n",
       "    .dataframe thead th {\n",
       "        text-align: right;\n",
       "    }\n",
       "</style>\n",
       "<table border=\"1\" class=\"dataframe\">\n",
       "  <thead>\n",
       "    <tr style=\"text-align: right;\">\n",
       "      <th></th>\n",
       "      <th>Pregnancies</th>\n",
       "      <th>Glucose</th>\n",
       "      <th>BloodPressure</th>\n",
       "      <th>SkinThickness</th>\n",
       "      <th>Insulin</th>\n",
       "      <th>BMI</th>\n",
       "      <th>DiabetesPedigreeFunction</th>\n",
       "      <th>Age</th>\n",
       "      <th>Outcome</th>\n",
       "    </tr>\n",
       "  </thead>\n",
       "  <tbody>\n",
       "    <tr>\n",
       "      <th>0</th>\n",
       "      <td>2</td>\n",
       "      <td>138</td>\n",
       "      <td>62</td>\n",
       "      <td>35</td>\n",
       "      <td>0</td>\n",
       "      <td>33.6</td>\n",
       "      <td>0.127</td>\n",
       "      <td>47</td>\n",
       "      <td>1</td>\n",
       "    </tr>\n",
       "    <tr>\n",
       "      <th>1</th>\n",
       "      <td>0</td>\n",
       "      <td>84</td>\n",
       "      <td>82</td>\n",
       "      <td>31</td>\n",
       "      <td>125</td>\n",
       "      <td>38.2</td>\n",
       "      <td>0.233</td>\n",
       "      <td>23</td>\n",
       "      <td>0</td>\n",
       "    </tr>\n",
       "    <tr>\n",
       "      <th>2</th>\n",
       "      <td>0</td>\n",
       "      <td>145</td>\n",
       "      <td>0</td>\n",
       "      <td>0</td>\n",
       "      <td>0</td>\n",
       "      <td>44.2</td>\n",
       "      <td>0.630</td>\n",
       "      <td>31</td>\n",
       "      <td>1</td>\n",
       "    </tr>\n",
       "    <tr>\n",
       "      <th>3</th>\n",
       "      <td>0</td>\n",
       "      <td>135</td>\n",
       "      <td>68</td>\n",
       "      <td>42</td>\n",
       "      <td>250</td>\n",
       "      <td>42.3</td>\n",
       "      <td>0.365</td>\n",
       "      <td>24</td>\n",
       "      <td>1</td>\n",
       "    </tr>\n",
       "    <tr>\n",
       "      <th>4</th>\n",
       "      <td>1</td>\n",
       "      <td>139</td>\n",
       "      <td>62</td>\n",
       "      <td>41</td>\n",
       "      <td>480</td>\n",
       "      <td>40.7</td>\n",
       "      <td>0.536</td>\n",
       "      <td>21</td>\n",
       "      <td>0</td>\n",
       "    </tr>\n",
       "  </tbody>\n",
       "</table>\n",
       "</div>"
      ],
      "text/plain": [
       "   Pregnancies  Glucose  BloodPressure  SkinThickness  Insulin   BMI  \\\n",
       "0            2      138             62             35        0  33.6   \n",
       "1            0       84             82             31      125  38.2   \n",
       "2            0      145              0              0        0  44.2   \n",
       "3            0      135             68             42      250  42.3   \n",
       "4            1      139             62             41      480  40.7   \n",
       "\n",
       "   DiabetesPedigreeFunction  Age  Outcome  \n",
       "0                     0.127   47        1  \n",
       "1                     0.233   23        0  \n",
       "2                     0.630   31        1  \n",
       "3                     0.365   24        1  \n",
       "4                     0.536   21        0  "
      ]
     },
     "execution_count": 3,
     "metadata": {},
     "output_type": "execute_result"
    }
   ],
   "source": [
    "data = pd.read_csv(\"../input/diabetes/diabetes.csv\")\n",
    "data.head(5)"
   ]
  },
  {
   "cell_type": "code",
   "execution_count": 4,
   "metadata": {
    "execution": {
     "iopub.execute_input": "2021-02-08T11:09:28.903727Z",
     "iopub.status.busy": "2021-02-08T11:09:28.902738Z",
     "iopub.status.idle": "2021-02-08T11:09:28.909901Z",
     "shell.execute_reply": "2021-02-08T11:09:28.909227Z"
    },
    "papermill": {
     "duration": 0.020356,
     "end_time": "2021-02-08T11:09:28.910041",
     "exception": false,
     "start_time": "2021-02-08T11:09:28.889685",
     "status": "completed"
    },
    "tags": []
   },
   "outputs": [],
   "source": [
    "x=data.drop(\"Glucose\", axis=1)\n",
    "y=data[\"Glucose\"]"
   ]
  },
  {
   "cell_type": "code",
   "execution_count": 5,
   "metadata": {
    "execution": {
     "iopub.execute_input": "2021-02-08T11:09:28.935870Z",
     "iopub.status.busy": "2021-02-08T11:09:28.934603Z",
     "iopub.status.idle": "2021-02-08T11:09:28.941191Z",
     "shell.execute_reply": "2021-02-08T11:09:28.940614Z"
    },
    "papermill": {
     "duration": 0.02182,
     "end_time": "2021-02-08T11:09:28.941337",
     "exception": false,
     "start_time": "2021-02-08T11:09:28.919517",
     "status": "completed"
    },
    "tags": []
   },
   "outputs": [],
   "source": [
    "x_train, x_test, y_train, y_test = train_test_split(x,y,test_size=0.2, random_state=60)"
   ]
  },
  {
   "cell_type": "code",
   "execution_count": 6,
   "metadata": {
    "execution": {
     "iopub.execute_input": "2021-02-08T11:09:28.969065Z",
     "iopub.status.busy": "2021-02-08T11:09:28.967957Z",
     "iopub.status.idle": "2021-02-08T11:09:28.977170Z",
     "shell.execute_reply": "2021-02-08T11:09:28.976428Z"
    },
    "papermill": {
     "duration": 0.026338,
     "end_time": "2021-02-08T11:09:28.977317",
     "exception": false,
     "start_time": "2021-02-08T11:09:28.950979",
     "status": "completed"
    },
    "tags": []
   },
   "outputs": [],
   "source": [
    "from sklearn.preprocessing import StandardScaler\n",
    "sc = StandardScaler()\n",
    "x_train = sc.fit_transform(x_train)\n",
    "x_test = sc.transform(x_test)"
   ]
  },
  {
   "cell_type": "code",
   "execution_count": 7,
   "metadata": {
    "execution": {
     "iopub.execute_input": "2021-02-08T11:09:29.002286Z",
     "iopub.status.busy": "2021-02-08T11:09:29.001440Z",
     "iopub.status.idle": "2021-02-08T11:09:29.090235Z",
     "shell.execute_reply": "2021-02-08T11:09:29.089566Z"
    },
    "papermill": {
     "duration": 0.103362,
     "end_time": "2021-02-08T11:09:29.090380",
     "exception": false,
     "start_time": "2021-02-08T11:09:28.987018",
     "status": "completed"
    },
    "tags": []
   },
   "outputs": [
    {
     "data": {
      "text/plain": [
       "KNeighborsClassifier(n_neighbors=6)"
      ]
     },
     "execution_count": 7,
     "metadata": {},
     "output_type": "execute_result"
    }
   ],
   "source": [
    "from sklearn.neighbors import KNeighborsClassifier\n",
    "knn = KNeighborsClassifier(n_neighbors = 6)\n",
    "knn.fit(x_train, y_train)"
   ]
  },
  {
   "cell_type": "code",
   "execution_count": 8,
   "metadata": {
    "execution": {
     "iopub.execute_input": "2021-02-08T11:09:29.117466Z",
     "iopub.status.busy": "2021-02-08T11:09:29.116386Z",
     "iopub.status.idle": "2021-02-08T11:09:29.145113Z",
     "shell.execute_reply": "2021-02-08T11:09:29.144522Z"
    },
    "papermill": {
     "duration": 0.044462,
     "end_time": "2021-02-08T11:09:29.145273",
     "exception": false,
     "start_time": "2021-02-08T11:09:29.100811",
     "status": "completed"
    },
    "tags": []
   },
   "outputs": [
    {
     "data": {
      "text/plain": [
       "array([100,  99, 144,  96, 173, 154, 193, 144,  92, 107, 126, 155, 125,\n",
       "       194,   0,  99, 122, 145, 150, 130,  99, 147, 112, 126,  94,  92,\n",
       "       179, 100, 132, 148, 109, 145,  86, 197, 146, 108, 174, 179,  90,\n",
       "       104, 173, 124, 193,  94,  88,  89,  68, 114, 104, 125, 114, 112,\n",
       "       120, 112, 124, 103, 112, 154, 108, 122, 101, 117,  68, 125, 146,\n",
       "       155, 107, 119, 154, 112, 118, 129,  87,  78, 144, 128,  89,  71,\n",
       "        76, 120,  94,  84, 103, 145,  86,  61, 182,  85,  88, 107, 100,\n",
       "       107, 110,  71,  84, 125, 108, 154,  89, 118, 114, 111, 115,  99,\n",
       "        84,  77, 124,  97, 117, 128, 103, 173, 105, 155, 182, 120, 109,\n",
       "       126, 119, 102, 154, 135,  99,  93, 107, 101, 155, 111,  77, 116,\n",
       "       156, 119, 102, 115, 146, 153,  87,  72,  80, 196, 111,  87,  89,\n",
       "        95,  84,  99, 120,  75,  84, 111,  77, 132,  91,  88, 102, 112,\n",
       "       165,  61, 162, 122,  83, 135, 166,  57,  95,  99, 124,  94, 181,\n",
       "       125,  97, 104, 108,  90, 139, 156, 117, 122, 120, 154,  85, 128,\n",
       "        68,  57, 171, 102,  97, 117,  81,  81, 142, 153,  80,  91,  92,\n",
       "        83,  84, 154,  81,  88, 144, 100,  95, 155,  98, 128, 148, 189,\n",
       "       122, 108, 111, 128, 102,  81, 114,  82, 114, 109, 105,  90,  83,\n",
       "       122,  82,  91,  97, 108,  76,  92,  99, 120, 105, 125, 111,  90,\n",
       "        90,  83,  92,  82,  83,  90,  95, 156, 136,  90, 140, 125, 108,\n",
       "       116,  96,  80, 144,  99, 106, 173, 108,  81, 154,  95, 130,  99,\n",
       "       144, 144, 111, 181, 102, 108,  96, 111, 103,  72,  88, 181,  75,\n",
       "        90,  99, 193,  80, 110, 127, 151,  95, 109,  99, 128, 111, 110,\n",
       "       114, 174, 179, 134, 114,  81, 144, 105, 109, 106,  77, 122, 145,\n",
       "        86,  91,  90, 103,  83, 170, 100, 115,  81,  84, 122, 158,  91,\n",
       "       107,  86, 100,  77, 135, 130, 125,  95, 115, 167,  90,  88,  97,\n",
       "       124,  90,   0, 105, 114, 114, 100, 128, 147,  95,  71,  77, 180,\n",
       "        71, 148, 101, 126, 107, 156, 115, 108, 165, 155, 128, 100, 101,\n",
       "       102, 124, 109, 109, 158,  73, 122,  80, 124, 128, 147,  84, 136,\n",
       "       102, 151, 158, 105,  97, 115,  81, 162,  83, 124,  84,  92,  94,\n",
       "       145, 109, 115,  88, 115, 128,  87, 110,  90,  99, 117,  99,  89,\n",
       "       117,  86,  91, 111, 119,  97, 139, 100, 123,  65])"
      ]
     },
     "execution_count": 8,
     "metadata": {},
     "output_type": "execute_result"
    }
   ],
   "source": [
    "y_pred = knn.predict(x_test)\n",
    "y_pred"
   ]
  },
  {
   "cell_type": "code",
   "execution_count": 9,
   "metadata": {
    "execution": {
     "iopub.execute_input": "2021-02-08T11:09:29.172612Z",
     "iopub.status.busy": "2021-02-08T11:09:29.171711Z",
     "iopub.status.idle": "2021-02-08T11:09:29.181419Z",
     "shell.execute_reply": "2021-02-08T11:09:29.180859Z"
    },
    "papermill": {
     "duration": 0.025426,
     "end_time": "2021-02-08T11:09:29.181578",
     "exception": false,
     "start_time": "2021-02-08T11:09:29.156152",
     "status": "completed"
    },
    "tags": []
   },
   "outputs": [
    {
     "data": {
      "text/plain": [
       "array([[0, 0, 0, ..., 0, 0, 0],\n",
       "       [0, 0, 0, ..., 0, 0, 0],\n",
       "       [0, 0, 0, ..., 0, 0, 0],\n",
       "       ...,\n",
       "       [0, 0, 0, ..., 0, 0, 0],\n",
       "       [0, 0, 0, ..., 0, 1, 0],\n",
       "       [0, 0, 0, ..., 0, 0, 0]])"
      ]
     },
     "execution_count": 9,
     "metadata": {},
     "output_type": "execute_result"
    }
   ],
   "source": [
    "from sklearn.metrics import confusion_matrix\n",
    "cm = confusion_matrix(y_test, y_pred)\n",
    "cm"
   ]
  },
  {
   "cell_type": "code",
   "execution_count": 10,
   "metadata": {
    "execution": {
     "iopub.execute_input": "2021-02-08T11:09:29.210672Z",
     "iopub.status.busy": "2021-02-08T11:09:29.209961Z",
     "iopub.status.idle": "2021-02-08T11:09:29.236265Z",
     "shell.execute_reply": "2021-02-08T11:09:29.236809Z"
    },
    "papermill": {
     "duration": 0.044177,
     "end_time": "2021-02-08T11:09:29.237004",
     "exception": false,
     "start_time": "2021-02-08T11:09:29.192827",
     "status": "completed"
    },
    "tags": []
   },
   "outputs": [
    {
     "data": {
      "text/plain": [
       "0.215"
      ]
     },
     "execution_count": 10,
     "metadata": {},
     "output_type": "execute_result"
    }
   ],
   "source": [
    "from sklearn.metrics import accuracy_score\n",
    "predic = knn.predict(x_test)\n",
    "accuracy_score(y_test, predic)"
   ]
  },
  {
   "cell_type": "code",
   "execution_count": 11,
   "metadata": {
    "execution": {
     "iopub.execute_input": "2021-02-08T11:09:29.267475Z",
     "iopub.status.busy": "2021-02-08T11:09:29.266841Z",
     "iopub.status.idle": "2021-02-08T11:09:29.271643Z",
     "shell.execute_reply": "2021-02-08T11:09:29.271013Z"
    },
    "papermill": {
     "duration": 0.023144,
     "end_time": "2021-02-08T11:09:29.271780",
     "exception": false,
     "start_time": "2021-02-08T11:09:29.248636",
     "status": "completed"
    },
    "tags": []
   },
   "outputs": [
    {
     "name": "stdout",
     "output_type": "stream",
     "text": [
      "[180]\n"
     ]
    }
   ],
   "source": [
    "print(knn.predict(sc.transform([[2,138,62,35,0,33.6,0.127,47]])))"
   ]
  },
  {
   "cell_type": "code",
   "execution_count": null,
   "metadata": {
    "papermill": {
     "duration": 0.011757,
     "end_time": "2021-02-08T11:09:29.295667",
     "exception": false,
     "start_time": "2021-02-08T11:09:29.283910",
     "status": "completed"
    },
    "tags": []
   },
   "outputs": [],
   "source": []
  }
 ],
 "metadata": {
  "kernelspec": {
   "display_name": "Python 3",
   "language": "python",
   "name": "python3"
  },
  "language_info": {
   "codemirror_mode": {
    "name": "ipython",
    "version": 3
   },
   "file_extension": ".py",
   "mimetype": "text/x-python",
   "name": "python",
   "nbconvert_exporter": "python",
   "pygments_lexer": "ipython3",
   "version": "3.7.9"
  },
  "papermill": {
   "default_parameters": {},
   "duration": 8.818787,
   "end_time": "2021-02-08T11:09:30.018052",
   "environment_variables": {},
   "exception": null,
   "input_path": "__notebook__.ipynb",
   "output_path": "__notebook__.ipynb",
   "parameters": {},
   "start_time": "2021-02-08T11:09:21.199265",
   "version": "2.2.2"
  }
 },
 "nbformat": 4,
 "nbformat_minor": 4
}
